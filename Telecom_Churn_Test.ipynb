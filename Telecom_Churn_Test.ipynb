{
 "cells": [
  {
   "cell_type": "markdown",
   "metadata": {
    "id": "neyZFZS-9xjI"
   },
   "source": [
    "#### 1. Dataframe basics"
   ]
  },
  {
   "cell_type": "markdown",
   "metadata": {
    "id": "TGbfkr559xjd"
   },
   "source": [
    "#### 1.1. Import pandas and reffered the package as pd + Load \"telecom_churn.csv\" and assign in to the variable df <span style= color:#0033cc>(3 points)</span>"
   ]
  },
  {
   "cell_type": "code",
   "execution_count": 2,
   "metadata": {
    "id": "F9kNhaZb9xjh"
   },
   "outputs": [
    {
     "name": "stdout",
     "output_type": "stream",
     "text": [
      "Note: you may need to restart the kernel to use updated packages.\n",
      "Collecting pandas\n",
      "  Using cached pandas-2.2.1-cp310-cp310-win_amd64.whl.metadata (19 kB)\n",
      "Requirement already satisfied: numpy<2,>=1.22.4 in c:\\python310\\lib\\site-packages (from pandas) (1.26.4)\n",
      "Requirement already satisfied: python-dateutil>=2.8.2 in c:\\python310\\lib\\site-packages (from pandas) (2.8.2)\n",
      "Requirement already satisfied: pytz>=2020.1 in c:\\python310\\lib\\site-packages (from pandas) (2024.1)\n",
      "Requirement already satisfied: tzdata>=2022.7 in c:\\python310\\lib\\site-packages (from pandas) (2024.1)\n",
      "Requirement already satisfied: six>=1.5 in c:\\python310\\lib\\site-packages (from python-dateutil>=2.8.2->pandas) (1.16.0)\n",
      "Using cached pandas-2.2.1-cp310-cp310-win_amd64.whl (11.6 MB)\n",
      "Installing collected packages: pandas\n",
      "Successfully installed pandas-2.2.1\n"
     ]
    },
    {
     "name": "stderr",
     "output_type": "stream",
     "text": [
      "\n",
      "[notice] A new release of pip is available: 23.3.2 -> 24.0\n",
      "[notice] To update, run: python.exe -m pip install --upgrade pip\n"
     ]
    }
   ],
   "source": [
    "pip install pandas"
   ]
  },
  {
   "cell_type": "code",
   "execution_count": 4,
   "metadata": {},
   "outputs": [],
   "source": [
    "import pandas as pd"
   ]
  },
  {
   "cell_type": "code",
   "execution_count": 7,
   "metadata": {},
   "outputs": [
    {
     "data": {
      "text/html": [
       "<div>\n",
       "<style scoped>\n",
       "    .dataframe tbody tr th:only-of-type {\n",
       "        vertical-align: middle;\n",
       "    }\n",
       "\n",
       "    .dataframe tbody tr th {\n",
       "        vertical-align: top;\n",
       "    }\n",
       "\n",
       "    .dataframe thead th {\n",
       "        text-align: right;\n",
       "    }\n",
       "</style>\n",
       "<table border=\"1\" class=\"dataframe\">\n",
       "  <thead>\n",
       "    <tr style=\"text-align: right;\">\n",
       "      <th></th>\n",
       "      <th>State</th>\n",
       "      <th>Account length</th>\n",
       "      <th>Area code</th>\n",
       "      <th>International plan</th>\n",
       "      <th>Voice mail plan</th>\n",
       "      <th>Number vmail messages</th>\n",
       "      <th>Total day minutes</th>\n",
       "      <th>Total day calls</th>\n",
       "      <th>Total day charge</th>\n",
       "      <th>Total eve minutes</th>\n",
       "      <th>Total eve calls</th>\n",
       "      <th>Total eve charge</th>\n",
       "      <th>Total night minutes</th>\n",
       "      <th>Total night calls</th>\n",
       "      <th>Total night charge</th>\n",
       "      <th>Total intl minutes</th>\n",
       "      <th>Total intl calls</th>\n",
       "      <th>Total intl charge</th>\n",
       "      <th>Customer service calls</th>\n",
       "      <th>Churn</th>\n",
       "    </tr>\n",
       "  </thead>\n",
       "  <tbody>\n",
       "    <tr>\n",
       "      <th>0</th>\n",
       "      <td>KS</td>\n",
       "      <td>128</td>\n",
       "      <td>415</td>\n",
       "      <td>No</td>\n",
       "      <td>Yes</td>\n",
       "      <td>25</td>\n",
       "      <td>265.1</td>\n",
       "      <td>110</td>\n",
       "      <td>45.07</td>\n",
       "      <td>197.4</td>\n",
       "      <td>99</td>\n",
       "      <td>16.78</td>\n",
       "      <td>244.7</td>\n",
       "      <td>91</td>\n",
       "      <td>11.01</td>\n",
       "      <td>10.0</td>\n",
       "      <td>3</td>\n",
       "      <td>2.70</td>\n",
       "      <td>1</td>\n",
       "      <td>False</td>\n",
       "    </tr>\n",
       "    <tr>\n",
       "      <th>1</th>\n",
       "      <td>OH</td>\n",
       "      <td>107</td>\n",
       "      <td>415</td>\n",
       "      <td>No</td>\n",
       "      <td>Yes</td>\n",
       "      <td>26</td>\n",
       "      <td>161.6</td>\n",
       "      <td>123</td>\n",
       "      <td>27.47</td>\n",
       "      <td>195.5</td>\n",
       "      <td>103</td>\n",
       "      <td>16.62</td>\n",
       "      <td>254.4</td>\n",
       "      <td>103</td>\n",
       "      <td>11.45</td>\n",
       "      <td>13.7</td>\n",
       "      <td>3</td>\n",
       "      <td>3.70</td>\n",
       "      <td>1</td>\n",
       "      <td>False</td>\n",
       "    </tr>\n",
       "    <tr>\n",
       "      <th>2</th>\n",
       "      <td>NJ</td>\n",
       "      <td>137</td>\n",
       "      <td>415</td>\n",
       "      <td>No</td>\n",
       "      <td>No</td>\n",
       "      <td>0</td>\n",
       "      <td>243.4</td>\n",
       "      <td>114</td>\n",
       "      <td>41.38</td>\n",
       "      <td>121.2</td>\n",
       "      <td>110</td>\n",
       "      <td>10.30</td>\n",
       "      <td>162.6</td>\n",
       "      <td>104</td>\n",
       "      <td>7.32</td>\n",
       "      <td>12.2</td>\n",
       "      <td>5</td>\n",
       "      <td>3.29</td>\n",
       "      <td>0</td>\n",
       "      <td>False</td>\n",
       "    </tr>\n",
       "    <tr>\n",
       "      <th>3</th>\n",
       "      <td>OH</td>\n",
       "      <td>84</td>\n",
       "      <td>408</td>\n",
       "      <td>Yes</td>\n",
       "      <td>No</td>\n",
       "      <td>0</td>\n",
       "      <td>299.4</td>\n",
       "      <td>71</td>\n",
       "      <td>50.90</td>\n",
       "      <td>61.9</td>\n",
       "      <td>88</td>\n",
       "      <td>5.26</td>\n",
       "      <td>196.9</td>\n",
       "      <td>89</td>\n",
       "      <td>8.86</td>\n",
       "      <td>6.6</td>\n",
       "      <td>7</td>\n",
       "      <td>1.78</td>\n",
       "      <td>2</td>\n",
       "      <td>False</td>\n",
       "    </tr>\n",
       "    <tr>\n",
       "      <th>4</th>\n",
       "      <td>OK</td>\n",
       "      <td>75</td>\n",
       "      <td>415</td>\n",
       "      <td>Yes</td>\n",
       "      <td>No</td>\n",
       "      <td>0</td>\n",
       "      <td>166.7</td>\n",
       "      <td>113</td>\n",
       "      <td>28.34</td>\n",
       "      <td>148.3</td>\n",
       "      <td>122</td>\n",
       "      <td>12.61</td>\n",
       "      <td>186.9</td>\n",
       "      <td>121</td>\n",
       "      <td>8.41</td>\n",
       "      <td>10.1</td>\n",
       "      <td>3</td>\n",
       "      <td>2.73</td>\n",
       "      <td>3</td>\n",
       "      <td>False</td>\n",
       "    </tr>\n",
       "  </tbody>\n",
       "</table>\n",
       "</div>"
      ],
      "text/plain": [
       "  State  Account length  Area code International plan Voice mail plan  \\\n",
       "0    KS             128        415                 No             Yes   \n",
       "1    OH             107        415                 No             Yes   \n",
       "2    NJ             137        415                 No              No   \n",
       "3    OH              84        408                Yes              No   \n",
       "4    OK              75        415                Yes              No   \n",
       "\n",
       "   Number vmail messages  Total day minutes  Total day calls  \\\n",
       "0                     25              265.1              110   \n",
       "1                     26              161.6              123   \n",
       "2                      0              243.4              114   \n",
       "3                      0              299.4               71   \n",
       "4                      0              166.7              113   \n",
       "\n",
       "   Total day charge  Total eve minutes  Total eve calls  Total eve charge  \\\n",
       "0             45.07              197.4               99             16.78   \n",
       "1             27.47              195.5              103             16.62   \n",
       "2             41.38              121.2              110             10.30   \n",
       "3             50.90               61.9               88              5.26   \n",
       "4             28.34              148.3              122             12.61   \n",
       "\n",
       "   Total night minutes  Total night calls  Total night charge  \\\n",
       "0                244.7                 91               11.01   \n",
       "1                254.4                103               11.45   \n",
       "2                162.6                104                7.32   \n",
       "3                196.9                 89                8.86   \n",
       "4                186.9                121                8.41   \n",
       "\n",
       "   Total intl minutes  Total intl calls  Total intl charge  \\\n",
       "0                10.0                 3               2.70   \n",
       "1                13.7                 3               3.70   \n",
       "2                12.2                 5               3.29   \n",
       "3                 6.6                 7               1.78   \n",
       "4                10.1                 3               2.73   \n",
       "\n",
       "   Customer service calls  Churn  \n",
       "0                       1  False  \n",
       "1                       1  False  \n",
       "2                       0  False  \n",
       "3                       2  False  \n",
       "4                       3  False  "
      ]
     },
     "execution_count": 7,
     "metadata": {},
     "output_type": "execute_result"
    }
   ],
   "source": [
    "df = pd.read_csv('telecom_churn.csv')\n",
    "df.head()"
   ]
  },
  {
   "cell_type": "markdown",
   "metadata": {
    "id": "538kJWla9xjl"
   },
   "source": [
    "#### 1.2 Return the column labels/names <span style= color:#0033cc>(2 points)</span>"
   ]
  },
  {
   "cell_type": "code",
   "execution_count": 8,
   "metadata": {
    "id": "nD17ANgm9xjn",
    "scrolled": true
   },
   "outputs": [
    {
     "data": {
      "text/plain": [
       "['State',\n",
       " 'Account length',\n",
       " 'Area code',\n",
       " 'International plan',\n",
       " 'Voice mail plan',\n",
       " 'Number vmail messages',\n",
       " 'Total day minutes',\n",
       " 'Total day calls',\n",
       " 'Total day charge',\n",
       " 'Total eve minutes',\n",
       " 'Total eve calls',\n",
       " 'Total eve charge',\n",
       " 'Total night minutes',\n",
       " 'Total night calls',\n",
       " 'Total night charge',\n",
       " 'Total intl minutes',\n",
       " 'Total intl calls',\n",
       " 'Total intl charge',\n",
       " 'Customer service calls',\n",
       " 'Churn']"
      ]
     },
     "execution_count": 8,
     "metadata": {},
     "output_type": "execute_result"
    }
   ],
   "source": [
    "list(df.columns.values)"
   ]
  },
  {
   "cell_type": "markdown",
   "metadata": {
    "id": "TZ48WqDP9xjp"
   },
   "source": [
    "#### 1.3 Print the df shape <span style= color:#0033cc>(3 points)</span>"
   ]
  },
  {
   "cell_type": "code",
   "execution_count": null,
   "metadata": {
    "id": "NzgtJ5fV9xjs"
   },
   "outputs": [],
   "source": []
  },
  {
   "cell_type": "markdown",
   "metadata": {
    "id": "h-pvFB8b9xju"
   },
   "source": [
    "#### 2. What is the total day calls given by state and area code? "
   ]
  },
  {
   "cell_type": "markdown",
   "metadata": {
    "id": "rbsmSd919xjy"
   },
   "source": [
    "#### 2.1 Group the df by state and area code (assign it to grouped variable). <span style= color:#0033cc>(5 points)</span>"
   ]
  },
  {
   "cell_type": "code",
   "execution_count": 9,
   "metadata": {
    "id": "AH6R21GQ9xj2"
   },
   "outputs": [
    {
     "data": {
      "text/plain": [
       "(3333, 20)"
      ]
     },
     "execution_count": 9,
     "metadata": {},
     "output_type": "execute_result"
    }
   ],
   "source": [
    "df.shape"
   ]
  },
  {
   "cell_type": "code",
   "execution_count": 30,
   "metadata": {},
   "outputs": [
    {
     "ename": "AttributeError",
     "evalue": "'list' object has no attribute 'values'",
     "output_type": "error",
     "traceback": [
      "\u001b[1;31m---------------------------------------------------------------------------\u001b[0m",
      "\u001b[1;31mAttributeError\u001b[0m                            Traceback (most recent call last)",
      "Cell \u001b[1;32mIn[30], line 1\u001b[0m\n\u001b[1;32m----> 1\u001b[0m grouped_data \u001b[38;5;241m=\u001b[39m \u001b[43mdf\u001b[49m\u001b[38;5;241;43m.\u001b[39;49m\u001b[43mgroupby\u001b[49m\u001b[43m(\u001b[49m\u001b[43m[\u001b[49m\u001b[38;5;124;43m'\u001b[39;49m\u001b[38;5;124;43mState\u001b[39;49m\u001b[38;5;124;43m'\u001b[39;49m\u001b[43m,\u001b[49m\u001b[38;5;124;43m'\u001b[39;49m\u001b[38;5;124;43mArea code\u001b[39;49m\u001b[38;5;124;43m'\u001b[39;49m\u001b[43m]\u001b[49m\u001b[43m)\u001b[49m\u001b[38;5;241;43m.\u001b[39;49m\u001b[43mkeys\u001b[49m\u001b[38;5;241;43m.\u001b[39;49m\u001b[43mvalues\u001b[49m()\n\u001b[0;32m      3\u001b[0m grouped_data\n",
      "\u001b[1;31mAttributeError\u001b[0m: 'list' object has no attribute 'values'"
     ]
    }
   ],
   "source": [
    "grouped_data = df.groupby(['State','Area code'])\n",
    "\n",
    "grouped_data"
   ]
  },
  {
   "cell_type": "markdown",
   "metadata": {
    "id": "0ziIYrwv9xj4"
   },
   "source": [
    "#### 2.2 Use agg with the desired function sum to get the final answer (assign it to telecom_agg variable).<span style= color:#0033cc>(5 points)</span>"
   ]
  },
  {
   "cell_type": "code",
   "execution_count": 36,
   "metadata": {},
   "outputs": [
    {
     "data": {
      "text/plain": [
       "State                     KSOHNJOHOKALMAMOLAWVINRIIAMTIANYIDVTVATXFLCOAZ...\n",
       "Account length                                                       336849\n",
       "Area code                                                           1457129\n",
       "International plan        NoNoNoYesYesYesNoYesNoYesNoNoNoNoNoNoNoNoNoNoN...\n",
       "Voice mail plan           YesYesNoNoNoNoYesNoNoYesNoNoNoNoNoNoYesNoYesNo...\n",
       "Number vmail messages                                                 26994\n",
       "Total day minutes                                                  599190.4\n",
       "Total day calls                                                      334752\n",
       "Total day charge                                                  101864.17\n",
       "Total eve minutes                                                  669867.5\n",
       "Total eve calls                                                      333681\n",
       "Total eve charge                                                   56939.44\n",
       "Total night minutes                                                669506.5\n",
       "Total night calls                                                    333659\n",
       "Total night charge                                                 30128.07\n",
       "Total intl minutes                                                  34120.9\n",
       "Total intl calls                                                      14930\n",
       "Total intl charge                                                   9214.35\n",
       "Customer service calls                                                 5209\n",
       "Churn                                                                   483\n",
       "dtype: object"
      ]
     },
     "execution_count": 36,
     "metadata": {},
     "output_type": "execute_result"
    }
   ],
   "source": [
    "data_agg=df.agg('sum')\n",
    "data_agg"
   ]
  },
  {
   "cell_type": "code",
   "execution_count": 31,
   "metadata": {
    "id": "1eP3_Ore9xj6"
   },
   "outputs": [
    {
     "ename": "AttributeError",
     "evalue": "'SeriesGroupBy' object has no attribute 'KSOHNJOHOKALMAMOLAWVINRIIAMTIANYIDVTVATXFLCOAZSCVANEWYMTMOHIILNHLAAZOKGAAKMAAKNJGAMDARIDWIORMIDEIDWYIAINVAUTWYINCOCOWIOKIDCAMNSDNCWAWYMNUTTXNJMNNMNVHIMNDCNYMNMDWVORCOGATXVTINWVKYNJDCLAARMEAZAKMTAZMSIDIAMAVTKYINAZMINMCOUTMIMAALDEAZMENJNVMOIDNETXMDMSNVAZMSMSTXNENECANJTXARALNYFLAKNVDEMDMIVTVTMIWAUTLARIIANEOHRIOKLAOHVAMOFLSCVAIAMIOKDEGADCAZALCONHNMORLANEMNMIARKSWVAKNYNHVANMNYAZWYWACOTXKYMTOKMDTNTXMEDCMNDEMDMIWAMOINORMDRILAAZPAAZFLLAFLFLMDALWATNMSMEOKINMOIAVAKYMDOHOKNVIDMNSDILWYALNJNVINWVVASCRIINAZNMORNJMSMITXFLDCTXKSUTMNILNMSCNCWVRINHMOMAPAOKALWYPAWAHISDALVTMTMNAKMIDESDMIKSALOKCTNEWICTWIINDCARMEMNMDFLRIIAAZMOVTINRISDMNTXVAMAIDMAGARIIDSDMAWYVAORVAMEALGAIAAZFLMTALDEMTKYSCWAORAKGAMNILINSCVAWIVTAZFLAKARARAKMSMECANMNESCCODEOHMSOKCONCMDKSMANCNMCANYAZSDDCNDMOKSSDOKORINOHKSCTNHWIMSWVMAMDPAWITNTXORILDCGAIDUTKYOHWIILDERITXORNVNEMSORDEDEAZSDNVNMMNNJINDCMAMENHAZORKSNEMISCPAMTNMOHWYMIARFLARMOWITXTXNMGAIDALKSSDLAOHMAAZKYDCWAUTRIOHNVNDNVFLMDAZALNENVILWVMIARUTGAAZIDHINVMDGAGAUTMAINVTIAINALMERIMDFLCAALMEWVSDFLMIMINMAKOHMOKSMSVTNEVADEALIDMSOKNMWIWVSCKYMOILOKMINJIDDCNYALOROKLANETXUTORNYALRIMNNCMDRIWIVTCTOKAKNYGAUTNMNENJTXMTCOVTRIWYIDCTMEAZMDINNCDEMNWIFLWVSDFLORCOCTINPANMMESDARTXNHOKWIALPAOKMEWVHIMNNYAZOHMIMAWVMINMMORINCWYWYPAKYORNVDCUTWAFLVAKSKSDCMELADCTXNJDEVTGATXMTNDNJMOCOKSNCMTDENDVAILOKCOMTWVMEWIMONYCTARWYCACAMNAKVACOMTSDNEVTNDGAORMTWYGAWVCTILCODELAMAINNYTXKSWVNENDAKCOMESCMNCOKSMSNENJWIMTARWANHIAWVRIKSMTMOHICOCTIDDCTNWYMOVASDWVGAAZAKAKCTUTKYMIORTNWVNJMSMEWYWYINNMNJDCUTKYKSMIUTNEFLLAMTWAMIKYLANMALMOCOTXNYORWYUTLANVNCNCWYTNFLCAPAWVNJMTMNWIIDMAORMTALNDLANDMSWVWIKSMOPASDNJALMEAZVTNVWIHIDEAZVAGAAZMNMEFLWAMTALWVGAOHDENEFLAKWIWAKYOHUTNMMNWVMNALPADEMOILFLHIMECONHSCINFLGAILNCVTDCVTNVORALNDFLNENDMEILWAMAKSRIMOIAWYNVWIALHIMOCAMOCTMDOHNVMDNEOHMAOKMAWAHICOFLWIIDWYGAFLWYDEMEDCIACOMNVTAZLAMOMEMDVTDCWYVAVACTHIWIMDWVVTUTCONCNJARIAGAMOMOWYHIPATXVARIWIMSKYNCNVUTMEHIOHWVOKKYALMDNEDCTXOHDEIAVTORNVNCNJMNIDALAKVTPAAKCAMSARNVALGAARMANJMONYAZNJWVNMSCVTTNLAOHORDEKYGAVTORTXMONDMNNVNYFLKSNVNVSCMIMITNNYNVILMSNDNCMITNVTOKDENDORNYMOFLNDNYNDNYOHALSCGAWYWVHIWVLAARAKDCALUTKSMNVAUTINCTDEVTMORICARICTINFLKSNYTXRINVUTOKMNNCORNHAKORKSWVGANMOHNDRIHIWYNYKSLAPANVMNPAMONYMENHWYNYMEMNOHNCSDUTKYMTNJFLINDEALMESDVAAKIDRIKYNDHIWIWVNJKSALNJNCDEWYIDNYMOIDIATNOHILFLMAOKKYMINEVANYMTVTKSVAALPAALWVNVTNIDWYTXMAILLACOUTMINHIDWAMNNYMDGAHIALCTCOKSNJFLCAKSTXMNAKORMSVTUTKSNVDEINTXMAVTCAIANHGAWICOSCMIMDINMEDCTNFLWAHINETNMDNMVTORINMOFLDCVTOHMOLAILNJIAWANECTWVNDUTMSMNNHLAMEKSKSNVMTMTIDAKUTARLAKSORWICOKSILIAAZNEIDOHTXTNOKNDMTNCMNMNMAPAGANVTXMERIMNNHTNUTRINHAKNCAZMATNWYIAINNJFLMTNDMIMTALNVMIFLNYKSNCMNRIUTORSCILOHMAORCAWVVTIDORGAMEHIAZUTIACTWAVACOLATXSDVANYWAWITNCTWANHMTNEWAWIARWIDENHVATNVAIDTNAZMTOKIDNVKSWYMSWYTXWAHIILAKMDMASDPANCVTKYWALAWAMEWITXIAAZNDVTHIWYWVOKCTUTNYVAVTSDPANDCTSCMIVTOHVTILMOWINJGAVTCTAZSDCTINOHNYNEOKNCHIUTMDVTTXAZVAWINEKYNVMTMOMSNMNJNHNCMTSDVALANVAKOHNMMIMNWYWYWANMVARIALWVWVNJTNMIUTILMIWINDVTWANCMESDWVIDLAGAFLCONVINVAUTUTMOCTHIMDVAMTSCCOIDALCOUTDEOHRIFLOHMDILPAAZNHRIHINJWIMDORNVARMTCTUTGANVTNDENYMTIAVTLAMTNHWVIDAZSCWVOHMDMDMNNEMNNYHIMONVMANHUTFLWACTKYNMNDNVCAIDOKIAOHNJIADECAWYORMEARMEWVPAHIMTDCARMSOHMOTXMDCTSCMISDCOIDAZFLMNDEMIMSMACAMNVTCTWVWVNENCNEILMAAZSDMTVTUTHIDCWIUTWASDMTNJCTVANCAKMDILCTKSMANJARMSNDINMIARVTWVMEIACTNMORVTRIRINMALMTCTTNIDTXNHNDSCKSMERIWINCOHWYNJNDWIKYNYMOAZMNCOMDARTNDETNWIWVCTMNMOVANHOKCTTNMDWISDNDVAUTMASDALALWVSCFLKYUTNYMSNHVAVTWYNVWVWAKSVTOKGACOAKTNKYPACTCTMNWYPAORPAOKVTIDPANMFLTXVTMAORDEFLIDMDWVIDNVOHIDSCMONENCMEMIAZAZHINJMSMASCMNWVMSVAMSNMTXHIWAWICONVRIVANJNDMNHINDWIMNDCKSMTWVMEWYNYVTNCMONCNJOHTXWATNHIWYCTNMNJALMNNCOHNDCONDNYWIWYORCOLAALTXPAILDEMOAROHWIGAKYOHTNSDNYGATXWVMINDNESDNJAKCTCOMDNDNHMNKYNHCOKYKYINORSDDEORNEOHOHARKSTXWIORVAARCTOHWYILMODCMANHIAALORWVWANVSCNCNHWYFLPANCMOKSKYDEWICONMDEILWAMAOHTNMAMITXNHMDMSAZINNYWIWVNYOKNCKYTXCTNEHISCAKSDIDOKWASDOHVAWIINNMHIKYOHVTAZVTMOALNJWANYDCNEMAVTNMCONHILUTWVNJNMNDWANMDEGAHICTNJMEOKTNWYNYDERIPAHIMDVAINORAZWIVAMONVHIWAILILLAWITXMINCWANDNEMSKYRINYTXDENMRIMSNYNEWIKYSDVAKSNDCOKYWANVSCRIIDKYMESDSCTNMTWIAKAZMTDEVAMAINMDNVCOKSARWYPATXNYORCANYARMIOKTXNCIDILORSDNERIMDIDMESDNYDEOKSCINNVILSDOKKSIANJNJMTIAWANETXMSIAWIMTGAMTNDVTSDOHOHMTILNVUTNHLAVTNYCTKSMISDMEMDVANJTNDCDCORRIAKWIINMIIDNHMNAZMNMOALPAAKMSIAWYNENDCTNCCTNDWANVCOKSCOMOMANYAKWINHTNNYGAMNMIIDCTNCLANJTXCAMDWYTXCAUTWAMSOHKSRIINVTMTCTNMOHGAMNCTALWVNHWYVAVTOHMTMAVANMARNEWYIASCNCHIUTWYALVAWIFLKSNVNYVAKSNCMONDCAWVILNYNVALKSNDOKUTOHWYNMALDCIDARIDTXNMWAUTRINCRINYTXDEMSOHLAFLWAWVNYNEPAMSINVAMNDEORUTCTALTXCTMSARCAMIWVDEFLAKIDOHNHMASCOROHNCKYIDWAWVRIKSNVNEFLWYWACOWIKSRIMTCOCTFLVTOHNHRIFLMDWYFLTNNCINIAWVUTGAAKUTMSARAKAKMEWVCTGANVVTDCTNORMSNCCOARPAMNNMUTNEMSNVORVANJWVORKYMOTXMNFLPAWVINOKNEDEMIILUTILWANMMDVAMTCTALWVMONDARGAFLLAUTAZNYKYALININFLNMALMNNYMDKSWVIDLAMITNCAFLLAILALCTPATXVAMOMTNDFLWIKYMDINMANDVTCTVAMSAKWYNYNCILOHRIWYORNVNDORNDNJWVVAIDCTNMCTMISCSCNYMTWYNEINCOWYMDOKSDSCNYNYWVWAIDMNTXAZDECOWIWINJILDCIAGAAKCAMNCOKYSCMTKYWVIDMNMAMDSDPAKYIDNYNMCAIDWYNMHIIDNCTXGAALMEVAIDNYNCOHHIDCTNVTMDLAHIFLWYNEWYORINMDTNWVWAMSOHINCOTXAKWVMATNIDDEVAMTIDINMDMSWAOHRIARAZSCKYALNEMTMNNVCAUTILDCINNMMSVTVTUTKYVAOHAZNYVAMDMAILLAMODCPATNNJVATNNJWAARWIWARIMECOCORICTNCWYORFLKYSCWAMTPAMAVTMNILARMDMTVTCONCWATNARDCMNIAKSNDMTILDCKYMSTNIAAKMNWVORMSMEMNGADCGANYOKOKGANJMNMEMIMTNENDVAVTOHALDCNDTNDENYALOKMSMDNEARILINUTLAIDKYMINHWVORSDMDNDTNMOILUTMIARTXAKTNNHNMMNIARIALNCSDMTHIMTKYDCCOMIALKSNCSCCOMNWYFLNYOKMENEOHCTDCOKNJIAVAVANMFLRINJNEWVWYSCMSNDILORUTIAMEWYWISCDCCTORORNVMNOKKSRIDCILUTMNWIMIMIMAALSCWIVTCTORHIWVRIMIMEWVNEDCNHMDNHWVILOKNHMINDLAHINJWVNCPAMIWYNJNJNCNMMSTXOKIDALWYHIVAWVDECAPACOMDALALKSMIAKOHINSCKSOKWIINILTNDCNCRIMSVAKYNVWINHNEWINJMEWYINWIVTCAINSCINIAMDMNARMSMNWAMSIDNCVAMTMIHINCMNWVSDHIMSNYLAKSMAAKSDCONHWVAZMENHRIIDWINMWYILTXRIMIORVASDALMSMSHIWVWVWVINNMDENCNMSCNJAZRISDNHALWVIDMDINWYNHMNMANHMNIANYALWVNMCAMAMEFLNHINWIMANHTXNCCTNJWYLANVWVARSCKSNYMIMAUTHIPAORTNCTAZORDEMACTARSDCTCTMAMSMTAKDEOHMNCAOHNVSCWVNMWYCAKSWYOKUTMAUTMNNEOHKYWANYINCODCAKSCKSUTILDCDCOKKYNEALHISCGAKSPAUTORNDKYMNOHTXWYGATXWVNMMINCNYTXKYSDIDORWIWVSCCTNVNDMIMTNEUTWVARMTUTHIKSNYOHHIKSINORNYVAMIIDMOALORVTAZVAPACOKYNJILWAWVRIOHMOMDOHVAFLCONYWVLAMAUTALMETXNDCOLAMTORNHNEWVNVMAMIKYWVKYNJMETXMNVADCMDRIMAMDNMMNMIAZALMISCMSMSCAMDNDILSDALNVLAVADECTCOMAORWASCINMDNVTXNDWVCOTXFLALWVMINYMSMOARMSNYSDAKWVSCVAMSSDMNALCOMEGAAZMAAZINDEWIMEDCGAHIVANYPAARHIDEWVOKORNDMOARGATNMANDIANJMTALNYPAVTNCCTMOWVNJAKLAALINMADESCNHLAMSNMWASCMTMENMAZCTILINARRINDNHNVUTNCMIWIARNHTXIDCTNHWYORSCMDNYNMLAUTALDEWVKYNCWVAZWVNDWAIDCTOKIANEIDORSDDEWACTMNWAPAIDMSWADCKYOHTNIDWVWIOKWVSDKSNCNYWISCUTNCINARMENYORILMACTWIOKDEAZAKMIWASDSDAKMAARKSORNCOKNJOHNMOHMIKSILRIARNYWYNCORVTSDDCRIIDOKMNWAWVNHWIMDININNYOROKWINJARUTDCAKAZKSOHKSSCTNCAMIINRIMOTNCTMEMDNCSCCALAWIILINALOKIAVTNYLASCIDMOMEMSSDOKWYGAVTMDINWVOHOHSCAZWVRICTTN'",
     "output_type": "error",
     "traceback": [
      "\u001b[1;31m---------------------------------------------------------------------------\u001b[0m",
      "\u001b[1;31mAttributeError\u001b[0m                            Traceback (most recent call last)",
      "Cell \u001b[1;32mIn[31], line 1\u001b[0m\n\u001b[1;32m----> 1\u001b[0m grouped_data \u001b[38;5;241m=\u001b[39m \u001b[43mdf\u001b[49m\u001b[38;5;241;43m.\u001b[39;49m\u001b[43mgroupby\u001b[49m\u001b[43m(\u001b[49m\u001b[43m[\u001b[49m\u001b[38;5;124;43m'\u001b[39;49m\u001b[38;5;124;43mState\u001b[39;49m\u001b[38;5;124;43m'\u001b[39;49m\u001b[43m,\u001b[49m\u001b[38;5;124;43m'\u001b[39;49m\u001b[38;5;124;43mArea code\u001b[39;49m\u001b[38;5;124;43m'\u001b[39;49m\u001b[43m]\u001b[49m\u001b[43m)\u001b[49m\u001b[38;5;241;43m.\u001b[39;49m\u001b[43magg\u001b[49m\u001b[43m(\u001b[49m\u001b[43mdf\u001b[49m\u001b[38;5;241;43m.\u001b[39;49m\u001b[43msum\u001b[49m\u001b[43m(\u001b[49m\u001b[43m)\u001b[49m\u001b[43m)\u001b[49m\n\u001b[0;32m      3\u001b[0m grouped_data\n",
      "File \u001b[1;32mC:\\Python310\\lib\\site-packages\\pandas\\core\\groupby\\generic.py:1432\u001b[0m, in \u001b[0;36mDataFrameGroupBy.aggregate\u001b[1;34m(self, func, engine, engine_kwargs, *args, **kwargs)\u001b[0m\n\u001b[0;32m   1429\u001b[0m     kwargs[\u001b[38;5;124m\"\u001b[39m\u001b[38;5;124mengine_kwargs\u001b[39m\u001b[38;5;124m\"\u001b[39m] \u001b[38;5;241m=\u001b[39m engine_kwargs\n\u001b[0;32m   1431\u001b[0m op \u001b[38;5;241m=\u001b[39m GroupByApply(\u001b[38;5;28mself\u001b[39m, func, args\u001b[38;5;241m=\u001b[39margs, kwargs\u001b[38;5;241m=\u001b[39mkwargs)\n\u001b[1;32m-> 1432\u001b[0m result \u001b[38;5;241m=\u001b[39m \u001b[43mop\u001b[49m\u001b[38;5;241;43m.\u001b[39;49m\u001b[43magg\u001b[49m\u001b[43m(\u001b[49m\u001b[43m)\u001b[49m\n\u001b[0;32m   1433\u001b[0m \u001b[38;5;28;01mif\u001b[39;00m \u001b[38;5;129;01mnot\u001b[39;00m is_dict_like(func) \u001b[38;5;129;01mand\u001b[39;00m result \u001b[38;5;129;01mis\u001b[39;00m \u001b[38;5;129;01mnot\u001b[39;00m \u001b[38;5;28;01mNone\u001b[39;00m:\n\u001b[0;32m   1434\u001b[0m     \u001b[38;5;66;03m# GH #52849\u001b[39;00m\n\u001b[0;32m   1435\u001b[0m     \u001b[38;5;28;01mif\u001b[39;00m \u001b[38;5;129;01mnot\u001b[39;00m \u001b[38;5;28mself\u001b[39m\u001b[38;5;241m.\u001b[39mas_index \u001b[38;5;129;01mand\u001b[39;00m is_list_like(func):\n",
      "File \u001b[1;32mC:\\Python310\\lib\\site-packages\\pandas\\core\\apply.py:190\u001b[0m, in \u001b[0;36mApply.agg\u001b[1;34m(self)\u001b[0m\n\u001b[0;32m    187\u001b[0m     \u001b[38;5;28;01mreturn\u001b[39;00m \u001b[38;5;28mself\u001b[39m\u001b[38;5;241m.\u001b[39mapply_str()\n\u001b[0;32m    189\u001b[0m \u001b[38;5;28;01mif\u001b[39;00m is_dict_like(func):\n\u001b[1;32m--> 190\u001b[0m     \u001b[38;5;28;01mreturn\u001b[39;00m \u001b[38;5;28;43mself\u001b[39;49m\u001b[38;5;241;43m.\u001b[39;49m\u001b[43magg_dict_like\u001b[49m\u001b[43m(\u001b[49m\u001b[43m)\u001b[49m\n\u001b[0;32m    191\u001b[0m \u001b[38;5;28;01melif\u001b[39;00m is_list_like(func):\n\u001b[0;32m    192\u001b[0m     \u001b[38;5;66;03m# we require a list, but not a 'str'\u001b[39;00m\n\u001b[0;32m    193\u001b[0m     \u001b[38;5;28;01mreturn\u001b[39;00m \u001b[38;5;28mself\u001b[39m\u001b[38;5;241m.\u001b[39magg_list_like()\n",
      "File \u001b[1;32mC:\\Python310\\lib\\site-packages\\pandas\\core\\apply.py:423\u001b[0m, in \u001b[0;36mApply.agg_dict_like\u001b[1;34m(self)\u001b[0m\n\u001b[0;32m    415\u001b[0m \u001b[38;5;28;01mdef\u001b[39;00m \u001b[38;5;21magg_dict_like\u001b[39m(\u001b[38;5;28mself\u001b[39m) \u001b[38;5;241m-\u001b[39m\u001b[38;5;241m>\u001b[39m DataFrame \u001b[38;5;241m|\u001b[39m Series:\n\u001b[0;32m    416\u001b[0m \u001b[38;5;250m    \u001b[39m\u001b[38;5;124;03m\"\"\"\u001b[39;00m\n\u001b[0;32m    417\u001b[0m \u001b[38;5;124;03m    Compute aggregation in the case of a dict-like argument.\u001b[39;00m\n\u001b[0;32m    418\u001b[0m \n\u001b[1;32m   (...)\u001b[0m\n\u001b[0;32m    421\u001b[0m \u001b[38;5;124;03m    Result of aggregation.\u001b[39;00m\n\u001b[0;32m    422\u001b[0m \u001b[38;5;124;03m    \"\"\"\u001b[39;00m\n\u001b[1;32m--> 423\u001b[0m     \u001b[38;5;28;01mreturn\u001b[39;00m \u001b[38;5;28;43mself\u001b[39;49m\u001b[38;5;241;43m.\u001b[39;49m\u001b[43magg_or_apply_dict_like\u001b[49m\u001b[43m(\u001b[49m\u001b[43mop_name\u001b[49m\u001b[38;5;241;43m=\u001b[39;49m\u001b[38;5;124;43m\"\u001b[39;49m\u001b[38;5;124;43magg\u001b[39;49m\u001b[38;5;124;43m\"\u001b[39;49m\u001b[43m)\u001b[49m\n",
      "File \u001b[1;32mC:\\Python310\\lib\\site-packages\\pandas\\core\\apply.py:1608\u001b[0m, in \u001b[0;36mGroupByApply.agg_or_apply_dict_like\u001b[1;34m(self, op_name)\u001b[0m\n\u001b[0;32m   1603\u001b[0m     kwargs\u001b[38;5;241m.\u001b[39mupdate({\u001b[38;5;124m\"\u001b[39m\u001b[38;5;124mengine\u001b[39m\u001b[38;5;124m\"\u001b[39m: engine, \u001b[38;5;124m\"\u001b[39m\u001b[38;5;124mengine_kwargs\u001b[39m\u001b[38;5;124m\"\u001b[39m: engine_kwargs})\n\u001b[0;32m   1605\u001b[0m \u001b[38;5;28;01mwith\u001b[39;00m com\u001b[38;5;241m.\u001b[39mtemp_setattr(\n\u001b[0;32m   1606\u001b[0m     obj, \u001b[38;5;124m\"\u001b[39m\u001b[38;5;124mas_index\u001b[39m\u001b[38;5;124m\"\u001b[39m, \u001b[38;5;28;01mTrue\u001b[39;00m, condition\u001b[38;5;241m=\u001b[39m\u001b[38;5;28mhasattr\u001b[39m(obj, \u001b[38;5;124m\"\u001b[39m\u001b[38;5;124mas_index\u001b[39m\u001b[38;5;124m\"\u001b[39m)\n\u001b[0;32m   1607\u001b[0m ):\n\u001b[1;32m-> 1608\u001b[0m     result_index, result_data \u001b[38;5;241m=\u001b[39m \u001b[38;5;28;43mself\u001b[39;49m\u001b[38;5;241;43m.\u001b[39;49m\u001b[43mcompute_dict_like\u001b[49m\u001b[43m(\u001b[49m\n\u001b[0;32m   1609\u001b[0m \u001b[43m        \u001b[49m\u001b[43mop_name\u001b[49m\u001b[43m,\u001b[49m\u001b[43m \u001b[49m\u001b[43mselected_obj\u001b[49m\u001b[43m,\u001b[49m\u001b[43m \u001b[49m\u001b[43mselection\u001b[49m\u001b[43m,\u001b[49m\u001b[43m \u001b[49m\u001b[43mkwargs\u001b[49m\n\u001b[0;32m   1610\u001b[0m \u001b[43m    \u001b[49m\u001b[43m)\u001b[49m\n\u001b[0;32m   1611\u001b[0m result \u001b[38;5;241m=\u001b[39m \u001b[38;5;28mself\u001b[39m\u001b[38;5;241m.\u001b[39mwrap_results_dict_like(selected_obj, result_index, result_data)\n\u001b[0;32m   1612\u001b[0m \u001b[38;5;28;01mreturn\u001b[39;00m result\n",
      "File \u001b[1;32mC:\\Python310\\lib\\site-packages\\pandas\\core\\apply.py:496\u001b[0m, in \u001b[0;36mApply.compute_dict_like\u001b[1;34m(self, op_name, selected_obj, selection, kwargs)\u001b[0m\n\u001b[0;32m    493\u001b[0m         results \u001b[38;5;241m+\u001b[39m\u001b[38;5;241m=\u001b[39m key_data\n\u001b[0;32m    494\u001b[0m \u001b[38;5;28;01melse\u001b[39;00m:\n\u001b[0;32m    495\u001b[0m     \u001b[38;5;66;03m# key used for column selection and output\u001b[39;00m\n\u001b[1;32m--> 496\u001b[0m     results \u001b[38;5;241m=\u001b[39m [\n\u001b[0;32m    497\u001b[0m         \u001b[38;5;28mgetattr\u001b[39m(obj\u001b[38;5;241m.\u001b[39m_gotitem(key, ndim\u001b[38;5;241m=\u001b[39m\u001b[38;5;241m1\u001b[39m), op_name)(how, \u001b[38;5;241m*\u001b[39m\u001b[38;5;241m*\u001b[39mkwargs)\n\u001b[0;32m    498\u001b[0m         \u001b[38;5;28;01mfor\u001b[39;00m key, how \u001b[38;5;129;01min\u001b[39;00m func\u001b[38;5;241m.\u001b[39mitems()\n\u001b[0;32m    499\u001b[0m     ]\n\u001b[0;32m    500\u001b[0m     keys \u001b[38;5;241m=\u001b[39m \u001b[38;5;28mlist\u001b[39m(func\u001b[38;5;241m.\u001b[39mkeys())\n\u001b[0;32m    502\u001b[0m \u001b[38;5;28;01mreturn\u001b[39;00m keys, results\n",
      "File \u001b[1;32mC:\\Python310\\lib\\site-packages\\pandas\\core\\apply.py:497\u001b[0m, in \u001b[0;36m<listcomp>\u001b[1;34m(.0)\u001b[0m\n\u001b[0;32m    493\u001b[0m         results \u001b[38;5;241m+\u001b[39m\u001b[38;5;241m=\u001b[39m key_data\n\u001b[0;32m    494\u001b[0m \u001b[38;5;28;01melse\u001b[39;00m:\n\u001b[0;32m    495\u001b[0m     \u001b[38;5;66;03m# key used for column selection and output\u001b[39;00m\n\u001b[0;32m    496\u001b[0m     results \u001b[38;5;241m=\u001b[39m [\n\u001b[1;32m--> 497\u001b[0m         \u001b[38;5;28mgetattr\u001b[39m(obj\u001b[38;5;241m.\u001b[39m_gotitem(key, ndim\u001b[38;5;241m=\u001b[39m\u001b[38;5;241m1\u001b[39m), op_name)(how, \u001b[38;5;241m*\u001b[39m\u001b[38;5;241m*\u001b[39mkwargs)\n\u001b[0;32m    498\u001b[0m         \u001b[38;5;28;01mfor\u001b[39;00m key, how \u001b[38;5;129;01min\u001b[39;00m func\u001b[38;5;241m.\u001b[39mitems()\n\u001b[0;32m    499\u001b[0m     ]\n\u001b[0;32m    500\u001b[0m     keys \u001b[38;5;241m=\u001b[39m \u001b[38;5;28mlist\u001b[39m(func\u001b[38;5;241m.\u001b[39mkeys())\n\u001b[0;32m    502\u001b[0m \u001b[38;5;28;01mreturn\u001b[39;00m keys, results\n",
      "File \u001b[1;32mC:\\Python310\\lib\\site-packages\\pandas\\core\\groupby\\generic.py:249\u001b[0m, in \u001b[0;36mSeriesGroupBy.aggregate\u001b[1;34m(self, func, engine, engine_kwargs, *args, **kwargs)\u001b[0m\n\u001b[0;32m    247\u001b[0m     \u001b[38;5;28;01mif\u001b[39;00m engine_kwargs \u001b[38;5;129;01mis\u001b[39;00m \u001b[38;5;129;01mnot\u001b[39;00m \u001b[38;5;28;01mNone\u001b[39;00m:\n\u001b[0;32m    248\u001b[0m         kwargs[\u001b[38;5;124m\"\u001b[39m\u001b[38;5;124mengine_kwargs\u001b[39m\u001b[38;5;124m\"\u001b[39m] \u001b[38;5;241m=\u001b[39m engine_kwargs\n\u001b[1;32m--> 249\u001b[0m     \u001b[38;5;28;01mreturn\u001b[39;00m \u001b[38;5;28;43mgetattr\u001b[39;49m\u001b[43m(\u001b[49m\u001b[38;5;28;43mself\u001b[39;49m\u001b[43m,\u001b[49m\u001b[43m \u001b[49m\u001b[43mfunc\u001b[49m\u001b[43m)\u001b[49m(\u001b[38;5;241m*\u001b[39margs, \u001b[38;5;241m*\u001b[39m\u001b[38;5;241m*\u001b[39mkwargs)\n\u001b[0;32m    251\u001b[0m \u001b[38;5;28;01melif\u001b[39;00m \u001b[38;5;28misinstance\u001b[39m(func, abc\u001b[38;5;241m.\u001b[39mIterable):\n\u001b[0;32m    252\u001b[0m     \u001b[38;5;66;03m# Catch instances of lists / tuples\u001b[39;00m\n\u001b[0;32m    253\u001b[0m     \u001b[38;5;66;03m# but not the class list / tuple itself.\u001b[39;00m\n\u001b[0;32m    254\u001b[0m     func \u001b[38;5;241m=\u001b[39m maybe_mangle_lambdas(func)\n",
      "File \u001b[1;32mC:\\Python310\\lib\\site-packages\\pandas\\core\\groupby\\groupby.py:1363\u001b[0m, in \u001b[0;36mGroupBy.__getattr__\u001b[1;34m(self, attr)\u001b[0m\n\u001b[0;32m   1360\u001b[0m \u001b[38;5;28;01mif\u001b[39;00m attr \u001b[38;5;129;01min\u001b[39;00m \u001b[38;5;28mself\u001b[39m\u001b[38;5;241m.\u001b[39mobj:\n\u001b[0;32m   1361\u001b[0m     \u001b[38;5;28;01mreturn\u001b[39;00m \u001b[38;5;28mself\u001b[39m[attr]\n\u001b[1;32m-> 1363\u001b[0m \u001b[38;5;28;01mraise\u001b[39;00m \u001b[38;5;167;01mAttributeError\u001b[39;00m(\n\u001b[0;32m   1364\u001b[0m     \u001b[38;5;124mf\u001b[39m\u001b[38;5;124m\"\u001b[39m\u001b[38;5;124m'\u001b[39m\u001b[38;5;132;01m{\u001b[39;00m\u001b[38;5;28mtype\u001b[39m(\u001b[38;5;28mself\u001b[39m)\u001b[38;5;241m.\u001b[39m\u001b[38;5;18m__name__\u001b[39m\u001b[38;5;132;01m}\u001b[39;00m\u001b[38;5;124m'\u001b[39m\u001b[38;5;124m object has no attribute \u001b[39m\u001b[38;5;124m'\u001b[39m\u001b[38;5;132;01m{\u001b[39;00mattr\u001b[38;5;132;01m}\u001b[39;00m\u001b[38;5;124m'\u001b[39m\u001b[38;5;124m\"\u001b[39m\n\u001b[0;32m   1365\u001b[0m )\n",
      "\u001b[1;31mAttributeError\u001b[0m: 'SeriesGroupBy' object has no attribute 'KSOHNJOHOKALMAMOLAWVINRIIAMTIANYIDVTVATXFLCOAZSCVANEWYMTMOHIILNHLAAZOKGAAKMAAKNJGAMDARIDWIORMIDEIDWYIAINVAUTWYINCOCOWIOKIDCAMNSDNCWAWYMNUTTXNJMNNMNVHIMNDCNYMNMDWVORCOGATXVTINWVKYNJDCLAARMEAZAKMTAZMSIDIAMAVTKYINAZMINMCOUTMIMAALDEAZMENJNVMOIDNETXMDMSNVAZMSMSTXNENECANJTXARALNYFLAKNVDEMDMIVTVTMIWAUTLARIIANEOHRIOKLAOHVAMOFLSCVAIAMIOKDEGADCAZALCONHNMORLANEMNMIARKSWVAKNYNHVANMNYAZWYWACOTXKYMTOKMDTNTXMEDCMNDEMDMIWAMOINORMDRILAAZPAAZFLLAFLFLMDALWATNMSMEOKINMOIAVAKYMDOHOKNVIDMNSDILWYALNJNVINWVVASCRIINAZNMORNJMSMITXFLDCTXKSUTMNILNMSCNCWVRINHMOMAPAOKALWYPAWAHISDALVTMTMNAKMIDESDMIKSALOKCTNEWICTWIINDCARMEMNMDFLRIIAAZMOVTINRISDMNTXVAMAIDMAGARIIDSDMAWYVAORVAMEALGAIAAZFLMTALDEMTKYSCWAORAKGAMNILINSCVAWIVTAZFLAKARARAKMSMECANMNESCCODEOHMSOKCONCMDKSMANCNMCANYAZSDDCNDMOKSSDOKORINOHKSCTNHWIMSWVMAMDPAWITNTXORILDCGAIDUTKYOHWIILDERITXORNVNEMSORDEDEAZSDNVNMMNNJINDCMAMENHAZORKSNEMISCPAMTNMOHWYMIARFLARMOWITXTXNMGAIDALKSSDLAOHMAAZKYDCWAUTRIOHNVNDNVFLMDAZALNENVILWVMIARUTGAAZIDHINVMDGAGAUTMAINVTIAINALMERIMDFLCAALMEWVSDFLMIMINMAKOHMOKSMSVTNEVADEALIDMSOKNMWIWVSCKYMOILOKMINJIDDCNYALOROKLANETXUTORNYALRIMNNCMDRIWIVTCTOKAKNYGAUTNMNENJTXMTCOVTRIWYIDCTMEAZMDINNCDEMNWIFLWVSDFLORCOCTINPANMMESDARTXNHOKWIALPAOKMEWVHIMNNYAZOHMIMAWVMINMMORINCWYWYPAKYORNVDCUTWAFLVAKSKSDCMELADCTXNJDEVTGATXMTNDNJMOCOKSNCMTDENDVAILOKCOMTWVMEWIMONYCTARWYCACAMNAKVACOMTSDNEVTNDGAORMTWYGAWVCTILCODELAMAINNYTXKSWVNENDAKCOMESCMNCOKSMSNENJWIMTARWANHIAWVRIKSMTMOHICOCTIDDCTNWYMOVASDWVGAAZAKAKCTUTKYMIORTNWVNJMSMEWYWYINNMNJDCUTKYKSMIUTNEFLLAMTWAMIKYLANMALMOCOTXNYORWYUTLANVNCNCWYTNFLCAPAWVNJMTMNWIIDMAORMTALNDLANDMSWVWIKSMOPASDNJALMEAZVTNVWIHIDEAZVAGAAZMNMEFLWAMTALWVGAOHDENEFLAKWIWAKYOHUTNMMNWVMNALPADEMOILFLHIMECONHSCINFLGAILNCVTDCVTNVORALNDFLNENDMEILWAMAKSRIMOIAWYNVWIALHIMOCAMOCTMDOHNVMDNEOHMAOKMAWAHICOFLWIIDWYGAFLWYDEMEDCIACOMNVTAZLAMOMEMDVTDCWYVAVACTHIWIMDWVVTUTCONCNJARIAGAMOMOWYHIPATXVARIWIMSKYNCNVUTMEHIOHWVOKKYALMDNEDCTXOHDEIAVTORNVNCNJMNIDALAKVTPAAKCAMSARNVALGAARMANJMONYAZNJWVNMSCVTTNLAOHORDEKYGAVTORTXMONDMNNVNYFLKSNVNVSCMIMITNNYNVILMSNDNCMITNVTOKDENDORNYMOFLNDNYNDNYOHALSCGAWYWVHIWVLAARAKDCALUTKSMNVAUTINCTDEVTMORICARICTINFLKSNYTXRINVUTOKMNNCORNHAKORKSWVGANMOHNDRIHIWYNYKSLAPANVMNPAMONYMENHWYNYMEMNOHNCSDUTKYMTNJFLINDEALMESDVAAKIDRIKYNDHIWIWVNJKSALNJNCDEWYIDNYMOIDIATNOHILFLMAOKKYMINEVANYMTVTKSVAALPAALWVNVTNIDWYTXMAILLACOUTMINHIDWAMNNYMDGAHIALCTCOKSNJFLCAKSTXMNAKORMSVTUTKSNVDEINTXMAVTCAIANHGAWICOSCMIMDINMEDCTNFLWAHINETNMDNMVTORINMOFLDCVTOHMOLAILNJIAWANECTWVNDUTMSMNNHLAMEKSKSNVMTMTIDAKUTARLAKSORWICOKSILIAAZNEIDOHTXTNOKNDMTNCMNMNMAPAGANVTXMERIMNNHTNUTRINHAKNCAZMATNWYIAINNJFLMTNDMIMTALNVMIFLNYKSNCMNRIUTORSCILOHMAORCAWVVTIDORGAMEHIAZUTIACTWAVACOLATXSDVANYWAWITNCTWANHMTNEWAWIARWIDENHVATNVAIDTNAZMTOKIDNVKSWYMSWYTXWAHIILAKMDMASDPANCVTKYWALAWAMEWITXIAAZNDVTHIWYWVOKCTUTNYVAVTSDPANDCTSCMIVTOHVTILMOWINJGAVTCTAZSDCTINOHNYNEOKNCHIUTMDVTTXAZVAWINEKYNVMTMOMSNMNJNHNCMTSDVALANVAKOHNMMIMNWYWYWANMVARIALWVWVNJTNMIUTILMIWINDVTWANCMESDWVIDLAGAFLCONVINVAUTUTMOCTHIMDVAMTSCCOIDALCOUTDEOHRIFLOHMDILPAAZNHRIHINJWIMDORNVARMTCTUTGANVTNDENYMTIAVTLAMTNHWVIDAZSCWVOHMDMDMNNEMNNYHIMONVMANHUTFLWACTKYNMNDNVCAIDOKIAOHNJIADECAWYORMEARMEWVPAHIMTDCARMSOHMOTXMDCTSCMISDCOIDAZFLMNDEMIMSMACAMNVTCTWVWVNENCNEILMAAZSDMTVTUTHIDCWIUTWASDMTNJCTVANCAKMDILCTKSMANJARMSNDINMIARVTWVMEIACTNMORVTRIRINMALMTCTTNIDTXNHNDSCKSMERIWINCOHWYNJNDWIKYNYMOAZMNCOMDARTNDETNWIWVCTMNMOVANHOKCTTNMDWISDNDVAUTMASDALALWVSCFLKYUTNYMSNHVAVTWYNVWVWAKSVTOKGACOAKTNKYPACTCTMNWYPAORPAOKVTIDPANMFLTXVTMAORDEFLIDMDWVIDNVOHIDSCMONENCMEMIAZAZHINJMSMASCMNWVMSVAMSNMTXHIWAWICONVRIVANJNDMNHINDWIMNDCKSMTWVMEWYNYVTNCMONCNJOHTXWATNHIWYCTNMNJALMNNCOHNDCONDNYWIWYORCOLAALTXPAILDEMOAROHWIGAKYOHTNSDNYGATXWVMINDNESDNJAKCTCOMDNDNHMNKYNHCOKYKYINORSDDEORNEOHOHARKSTXWIORVAARCTOHWYILMODCMANHIAALORWVWANVSCNCNHWYFLPANCMOKSKYDEWICONMDEILWAMAOHTNMAMITXNHMDMSAZINNYWIWVNYOKNCKYTXCTNEHISCAKSDIDOKWASDOHVAWIINNMHIKYOHVTAZVTMOALNJWANYDCNEMAVTNMCONHILUTWVNJNMNDWANMDEGAHICTNJMEOKTNWYNYDERIPAHIMDVAINORAZWIVAMONVHIWAILILLAWITXMINCWANDNEMSKYRINYTXDENMRIMSNYNEWIKYSDVAKSNDCOKYWANVSCRIIDKYMESDSCTNMTWIAKAZMTDEVAMAINMDNVCOKSARWYPATXNYORCANYARMIOKTXNCIDILORSDNERIMDIDMESDNYDEOKSCINNVILSDOKKSIANJNJMTIAWANETXMSIAWIMTGAMTNDVTSDOHOHMTILNVUTNHLAVTNYCTKSMISDMEMDVANJTNDCDCORRIAKWIINMIIDNHMNAZMNMOALPAAKMSIAWYNENDCTNCCTNDWANVCOKSCOMOMANYAKWINHTNNYGAMNMIIDCTNCLANJTXCAMDWYTXCAUTWAMSOHKSRIINVTMTCTNMOHGAMNCTALWVNHWYVAVTOHMTMAVANMARNEWYIASCNCHIUTWYALVAWIFLKSNVNYVAKSNCMONDCAWVILNYNVALKSNDOKUTOHWYNMALDCIDARIDTXNMWAUTRINCRINYTXDEMSOHLAFLWAWVNYNEPAMSINVAMNDEORUTCTALTXCTMSARCAMIWVDEFLAKIDOHNHMASCOROHNCKYIDWAWVRIKSNVNEFLWYWACOWIKSRIMTCOCTFLVTOHNHRIFLMDWYFLTNNCINIAWVUTGAAKUTMSARAKAKMEWVCTGANVVTDCTNORMSNCCOARPAMNNMUTNEMSNVORVANJWVORKYMOTXMNFLPAWVINOKNEDEMIILUTILWANMMDVAMTCTALWVMONDARGAFLLAUTAZNYKYALININFLNMALMNNYMDKSWVIDLAMITNCAFLLAILALCTPATXVAMOMTNDFLWIKYMDINMANDVTCTVAMSAKWYNYNCILOHRIWYORNVNDORNDNJWVVAIDCTNMCTMISCSCNYMTWYNEINCOWYMDOKSDSCNYNYWVWAIDMNTXAZDECOWIWINJILDCIAGAAKCAMNCOKYSCMTKYWVIDMNMAMDSDPAKYIDNYNMCAIDWYNMHIIDNCTXGAALMEVAIDNYNCOHHIDCTNVTMDLAHIFLWYNEWYORINMDTNWVWAMSOHINCOTXAKWVMATNIDDEVAMTIDINMDMSWAOHRIARAZSCKYALNEMTMNNVCAUTILDCINNMMSVTVTUTKYVAOHAZNYVAMDMAILLAMODCPATNNJVATNNJWAARWIWARIMECOCORICTNCWYORFLKYSCWAMTPAMAVTMNILARMDMTVTCONCWATNARDCMNIAKSNDMTILDCKYMSTNIAAKMNWVORMSMEMNGADCGANYOKOKGANJMNMEMIMTNENDVAVTOHALDCNDTNDENYALOKMSMDNEARILINUTLAIDKYMINHWVORSDMDNDTNMOILUTMIARTXAKTNNHNMMNIARIALNCSDMTHIMTKYDCCOMIALKSNCSCCOMNWYFLNYOKMENEOHCTDCOKNJIAVAVANMFLRINJNEWVWYSCMSNDILORUTIAMEWYWISCDCCTORORNVMNOKKSRIDCILUTMNWIMIMIMAALSCWIVTCTORHIWVRIMIMEWVNEDCNHMDNHWVILOKNHMINDLAHINJWVNCPAMIWYNJNJNCNMMSTXOKIDALWYHIVAWVDECAPACOMDALALKSMIAKOHINSCKSOKWIINILTNDCNCRIMSVAKYNVWINHNEWINJMEWYINWIVTCAINSCINIAMDMNARMSMNWAMSIDNCVAMTMIHINCMNWVSDHIMSNYLAKSMAAKSDCONHWVAZMENHRIIDWINMWYILTXRIMIORVASDALMSMSHIWVWVWVINNMDENCNMSCNJAZRISDNHALWVIDMDINWYNHMNMANHMNIANYALWVNMCAMAMEFLNHINWIMANHTXNCCTNJWYLANVWVARSCKSNYMIMAUTHIPAORTNCTAZORDEMACTARSDCTCTMAMSMTAKDEOHMNCAOHNVSCWVNMWYCAKSWYOKUTMAUTMNNEOHKYWANYINCODCAKSCKSUTILDCDCOKKYNEALHISCGAKSPAUTORNDKYMNOHTXWYGATXWVNMMINCNYTXKYSDIDORWIWVSCCTNVNDMIMTNEUTWVARMTUTHIKSNYOHHIKSINORNYVAMIIDMOALORVTAZVAPACOKYNJILWAWVRIOHMOMDOHVAFLCONYWVLAMAUTALMETXNDCOLAMTORNHNEWVNVMAMIKYWVKYNJMETXMNVADCMDRIMAMDNMMNMIAZALMISCMSMSCAMDNDILSDALNVLAVADECTCOMAORWASCINMDNVTXNDWVCOTXFLALWVMINYMSMOARMSNYSDAKWVSCVAMSSDMNALCOMEGAAZMAAZINDEWIMEDCGAHIVANYPAARHIDEWVOKORNDMOARGATNMANDIANJMTALNYPAVTNCCTMOWVNJAKLAALINMADESCNHLAMSNMWASCMTMENMAZCTILINARRINDNHNVUTNCMIWIARNHTXIDCTNHWYORSCMDNYNMLAUTALDEWVKYNCWVAZWVNDWAIDCTOKIANEIDORSDDEWACTMNWAPAIDMSWADCKYOHTNIDWVWIOKWVSDKSNCNYWISCUTNCINARMENYORILMACTWIOKDEAZAKMIWASDSDAKMAARKSORNCOKNJOHNMOHMIKSILRIARNYWYNCORVTSDDCRIIDOKMNWAWVNHWIMDININNYOROKWINJARUTDCAKAZKSOHKSSCTNCAMIINRIMOTNCTMEMDNCSCCALAWIILINALOKIAVTNYLASCIDMOMEMSSDOKWYGAVTMDINWVOHOHSCAZWVRICTTN'"
     ]
    }
   ],
   "source": [
    "grouped_data = df.groupby(['State','Area code'])\n",
    "\n",
    "grouped_data"
   ]
  },
  {
   "cell_type": "markdown",
   "metadata": {
    "id": "0lAmCalD9xj8"
   },
   "source": [
    "#### 2.3 Reset the group by index <span style= color:#0033cc>(3 points)</span>"
   ]
  },
  {
   "cell_type": "code",
   "execution_count": 32,
   "metadata": {},
   "outputs": [
    {
     "name": "stdout",
     "output_type": "stream",
     "text": [
      "Requirement already satisfied: numpy in c:\\python310\\lib\\site-packages (1.26.4)Note: you may need to restart the kernel to use updated packages.\n",
      "\n"
     ]
    },
    {
     "name": "stderr",
     "output_type": "stream",
     "text": [
      "\n",
      "[notice] A new release of pip is available: 23.3.2 -> 24.0\n",
      "[notice] To update, run: python.exe -m pip install --upgrade pip\n"
     ]
    }
   ],
   "source": [
    "pip install numpy"
   ]
  },
  {
   "cell_type": "code",
   "execution_count": 39,
   "metadata": {},
   "outputs": [
    {
     "data": {
      "text/plain": [
       "<pandas.core.groupby.generic.DataFrameGroupBy object at 0x000001BB89F2E3B0>"
      ]
     },
     "execution_count": 39,
     "metadata": {},
     "output_type": "execute_result"
    }
   ],
   "source": [
    "grouped_data = df.groupby(level=0)\n",
    "grouped_data"
   ]
  },
  {
   "cell_type": "code",
   "execution_count": 33,
   "metadata": {
    "id": "uHU23qpR9xj-"
   },
   "outputs": [],
   "source": [
    "import numpy as np"
   ]
  },
  {
   "cell_type": "markdown",
   "metadata": {
    "id": "10raVaLV9xkA"
   },
   "source": [
    "#### 2.4 Use head function to review the first 10 telecom_agg rows <span style= color:#0033cc>(3 points)</span>"
   ]
  },
  {
   "cell_type": "code",
   "execution_count": 40,
   "metadata": {
    "id": "L3yw-QnO9xkC"
   },
   "outputs": [
    {
     "data": {
      "text/plain": [
       "State                    KSOHNJOHOKALMAMOLAWVINRIIAMTIANYIDVTVATXFLCOAZ...\n",
       "Account length                                                      336849\n",
       "Area code                                                          1457129\n",
       "International plan       NoNoNoYesYesYesNoYesNoYesNoNoNoNoNoNoNoNoNoNoN...\n",
       "Voice mail plan          YesYesNoNoNoNoYesNoNoYesNoNoNoNoNoNoYesNoYesNo...\n",
       "Number vmail messages                                                26994\n",
       "Total day minutes                                                 599190.4\n",
       "Total day calls                                                     334752\n",
       "Total day charge                                                 101864.17\n",
       "Total eve minutes                                                 669867.5\n",
       "dtype: object"
      ]
     },
     "execution_count": 40,
     "metadata": {},
     "output_type": "execute_result"
    }
   ],
   "source": [
    "data_agg.head(10)"
   ]
  },
  {
   "cell_type": "markdown",
   "metadata": {
    "id": "2fjl9ioL9xkD"
   },
   "source": [
    "#### 3. Users Churn rate"
   ]
  },
  {
   "cell_type": "markdown",
   "metadata": {
    "id": "8JJlIG7h9xkF"
   },
   "source": [
    "#### 3.1 Change \"Churn\" column type to an integer: <span style= color:#0033cc>(3 points)</span>"
   ]
  },
  {
   "cell_type": "code",
   "execution_count": 43,
   "metadata": {
    "id": "3Bq5V7iI9xkG"
   },
   "outputs": [
    {
     "ename": "KeyError",
     "evalue": "'churn'",
     "output_type": "error",
     "traceback": [
      "\u001b[1;31m---------------------------------------------------------------------------\u001b[0m",
      "\u001b[1;31mKeyError\u001b[0m                                  Traceback (most recent call last)",
      "File \u001b[1;32mC:\\Python310\\lib\\site-packages\\pandas\\core\\indexes\\base.py:3805\u001b[0m, in \u001b[0;36mIndex.get_loc\u001b[1;34m(self, key)\u001b[0m\n\u001b[0;32m   3804\u001b[0m \u001b[38;5;28;01mtry\u001b[39;00m:\n\u001b[1;32m-> 3805\u001b[0m     \u001b[38;5;28;01mreturn\u001b[39;00m \u001b[38;5;28;43mself\u001b[39;49m\u001b[38;5;241;43m.\u001b[39;49m\u001b[43m_engine\u001b[49m\u001b[38;5;241;43m.\u001b[39;49m\u001b[43mget_loc\u001b[49m\u001b[43m(\u001b[49m\u001b[43mcasted_key\u001b[49m\u001b[43m)\u001b[49m\n\u001b[0;32m   3806\u001b[0m \u001b[38;5;28;01mexcept\u001b[39;00m \u001b[38;5;167;01mKeyError\u001b[39;00m \u001b[38;5;28;01mas\u001b[39;00m err:\n",
      "File \u001b[1;32mindex.pyx:167\u001b[0m, in \u001b[0;36mpandas._libs.index.IndexEngine.get_loc\u001b[1;34m()\u001b[0m\n",
      "File \u001b[1;32mindex.pyx:196\u001b[0m, in \u001b[0;36mpandas._libs.index.IndexEngine.get_loc\u001b[1;34m()\u001b[0m\n",
      "File \u001b[1;32mpandas\\\\_libs\\\\hashtable_class_helper.pxi:7081\u001b[0m, in \u001b[0;36mpandas._libs.hashtable.PyObjectHashTable.get_item\u001b[1;34m()\u001b[0m\n",
      "File \u001b[1;32mpandas\\\\_libs\\\\hashtable_class_helper.pxi:7089\u001b[0m, in \u001b[0;36mpandas._libs.hashtable.PyObjectHashTable.get_item\u001b[1;34m()\u001b[0m\n",
      "\u001b[1;31mKeyError\u001b[0m: 'churn'",
      "\nThe above exception was the direct cause of the following exception:\n",
      "\u001b[1;31mKeyError\u001b[0m                                  Traceback (most recent call last)",
      "Cell \u001b[1;32mIn[43], line 1\u001b[0m\n\u001b[1;32m----> 1\u001b[0m df[\u001b[38;5;124m\"\u001b[39m\u001b[38;5;124mchurn\u001b[39m\u001b[38;5;124m\"\u001b[39m] \u001b[38;5;241m=\u001b[39m \u001b[43mdf\u001b[49m\u001b[43m[\u001b[49m\u001b[38;5;124;43m\"\u001b[39;49m\u001b[38;5;124;43mchurn\u001b[39;49m\u001b[38;5;124;43m\"\u001b[39;49m\u001b[43m]\u001b[49m\u001b[38;5;241m.\u001b[39mastype(\u001b[38;5;28mint\u001b[39m)\n\u001b[0;32m      2\u001b[0m df\n",
      "File \u001b[1;32mC:\\Python310\\lib\\site-packages\\pandas\\core\\frame.py:4090\u001b[0m, in \u001b[0;36mDataFrame.__getitem__\u001b[1;34m(self, key)\u001b[0m\n\u001b[0;32m   4088\u001b[0m \u001b[38;5;28;01mif\u001b[39;00m \u001b[38;5;28mself\u001b[39m\u001b[38;5;241m.\u001b[39mcolumns\u001b[38;5;241m.\u001b[39mnlevels \u001b[38;5;241m>\u001b[39m \u001b[38;5;241m1\u001b[39m:\n\u001b[0;32m   4089\u001b[0m     \u001b[38;5;28;01mreturn\u001b[39;00m \u001b[38;5;28mself\u001b[39m\u001b[38;5;241m.\u001b[39m_getitem_multilevel(key)\n\u001b[1;32m-> 4090\u001b[0m indexer \u001b[38;5;241m=\u001b[39m \u001b[38;5;28;43mself\u001b[39;49m\u001b[38;5;241;43m.\u001b[39;49m\u001b[43mcolumns\u001b[49m\u001b[38;5;241;43m.\u001b[39;49m\u001b[43mget_loc\u001b[49m\u001b[43m(\u001b[49m\u001b[43mkey\u001b[49m\u001b[43m)\u001b[49m\n\u001b[0;32m   4091\u001b[0m \u001b[38;5;28;01mif\u001b[39;00m is_integer(indexer):\n\u001b[0;32m   4092\u001b[0m     indexer \u001b[38;5;241m=\u001b[39m [indexer]\n",
      "File \u001b[1;32mC:\\Python310\\lib\\site-packages\\pandas\\core\\indexes\\base.py:3812\u001b[0m, in \u001b[0;36mIndex.get_loc\u001b[1;34m(self, key)\u001b[0m\n\u001b[0;32m   3807\u001b[0m     \u001b[38;5;28;01mif\u001b[39;00m \u001b[38;5;28misinstance\u001b[39m(casted_key, \u001b[38;5;28mslice\u001b[39m) \u001b[38;5;129;01mor\u001b[39;00m (\n\u001b[0;32m   3808\u001b[0m         \u001b[38;5;28misinstance\u001b[39m(casted_key, abc\u001b[38;5;241m.\u001b[39mIterable)\n\u001b[0;32m   3809\u001b[0m         \u001b[38;5;129;01mand\u001b[39;00m \u001b[38;5;28many\u001b[39m(\u001b[38;5;28misinstance\u001b[39m(x, \u001b[38;5;28mslice\u001b[39m) \u001b[38;5;28;01mfor\u001b[39;00m x \u001b[38;5;129;01min\u001b[39;00m casted_key)\n\u001b[0;32m   3810\u001b[0m     ):\n\u001b[0;32m   3811\u001b[0m         \u001b[38;5;28;01mraise\u001b[39;00m InvalidIndexError(key)\n\u001b[1;32m-> 3812\u001b[0m     \u001b[38;5;28;01mraise\u001b[39;00m \u001b[38;5;167;01mKeyError\u001b[39;00m(key) \u001b[38;5;28;01mfrom\u001b[39;00m \u001b[38;5;21;01merr\u001b[39;00m\n\u001b[0;32m   3813\u001b[0m \u001b[38;5;28;01mexcept\u001b[39;00m \u001b[38;5;167;01mTypeError\u001b[39;00m:\n\u001b[0;32m   3814\u001b[0m     \u001b[38;5;66;03m# If we have a listlike key, _check_indexing_error will raise\u001b[39;00m\n\u001b[0;32m   3815\u001b[0m     \u001b[38;5;66;03m#  InvalidIndexError. Otherwise we fall through and re-raise\u001b[39;00m\n\u001b[0;32m   3816\u001b[0m     \u001b[38;5;66;03m#  the TypeError.\u001b[39;00m\n\u001b[0;32m   3817\u001b[0m     \u001b[38;5;28mself\u001b[39m\u001b[38;5;241m.\u001b[39m_check_indexing_error(key)\n",
      "\u001b[1;31mKeyError\u001b[0m: 'churn'"
     ]
    }
   ],
   "source": [
    "df[\"churn\"] = df[\"churn\"].astype(int)\n",
    "df\n",
    "\n",
    "\n"
   ]
  },
  {
   "cell_type": "code",
   "execution_count": 46,
   "metadata": {},
   "outputs": [
    {
     "data": {
      "text/html": [
       "<div>\n",
       "<style scoped>\n",
       "    .dataframe tbody tr th:only-of-type {\n",
       "        vertical-align: middle;\n",
       "    }\n",
       "\n",
       "    .dataframe tbody tr th {\n",
       "        vertical-align: top;\n",
       "    }\n",
       "\n",
       "    .dataframe thead th {\n",
       "        text-align: right;\n",
       "    }\n",
       "</style>\n",
       "<table border=\"1\" class=\"dataframe\">\n",
       "  <thead>\n",
       "    <tr style=\"text-align: right;\">\n",
       "      <th></th>\n",
       "      <th>State</th>\n",
       "      <th>Account length</th>\n",
       "      <th>Area code</th>\n",
       "      <th>International plan</th>\n",
       "      <th>Voice mail plan</th>\n",
       "      <th>Number vmail messages</th>\n",
       "      <th>Total day minutes</th>\n",
       "      <th>Total day calls</th>\n",
       "      <th>Total day charge</th>\n",
       "      <th>Total eve minutes</th>\n",
       "      <th>Total eve calls</th>\n",
       "      <th>Total eve charge</th>\n",
       "      <th>Total night minutes</th>\n",
       "      <th>Total night calls</th>\n",
       "      <th>Total night charge</th>\n",
       "      <th>Total intl minutes</th>\n",
       "      <th>Total intl calls</th>\n",
       "      <th>Total intl charge</th>\n",
       "      <th>Customer service calls</th>\n",
       "      <th>Churn</th>\n",
       "    </tr>\n",
       "  </thead>\n",
       "  <tbody>\n",
       "    <tr>\n",
       "      <th>0</th>\n",
       "      <td>KS</td>\n",
       "      <td>128</td>\n",
       "      <td>415</td>\n",
       "      <td>No</td>\n",
       "      <td>Yes</td>\n",
       "      <td>25</td>\n",
       "      <td>265.1</td>\n",
       "      <td>110</td>\n",
       "      <td>45.07</td>\n",
       "      <td>197.4</td>\n",
       "      <td>99</td>\n",
       "      <td>16.78</td>\n",
       "      <td>244.7</td>\n",
       "      <td>91</td>\n",
       "      <td>11.01</td>\n",
       "      <td>10.0</td>\n",
       "      <td>3</td>\n",
       "      <td>2.70</td>\n",
       "      <td>1</td>\n",
       "      <td>0</td>\n",
       "    </tr>\n",
       "    <tr>\n",
       "      <th>1</th>\n",
       "      <td>OH</td>\n",
       "      <td>107</td>\n",
       "      <td>415</td>\n",
       "      <td>No</td>\n",
       "      <td>Yes</td>\n",
       "      <td>26</td>\n",
       "      <td>161.6</td>\n",
       "      <td>123</td>\n",
       "      <td>27.47</td>\n",
       "      <td>195.5</td>\n",
       "      <td>103</td>\n",
       "      <td>16.62</td>\n",
       "      <td>254.4</td>\n",
       "      <td>103</td>\n",
       "      <td>11.45</td>\n",
       "      <td>13.7</td>\n",
       "      <td>3</td>\n",
       "      <td>3.70</td>\n",
       "      <td>1</td>\n",
       "      <td>0</td>\n",
       "    </tr>\n",
       "    <tr>\n",
       "      <th>2</th>\n",
       "      <td>NJ</td>\n",
       "      <td>137</td>\n",
       "      <td>415</td>\n",
       "      <td>No</td>\n",
       "      <td>No</td>\n",
       "      <td>0</td>\n",
       "      <td>243.4</td>\n",
       "      <td>114</td>\n",
       "      <td>41.38</td>\n",
       "      <td>121.2</td>\n",
       "      <td>110</td>\n",
       "      <td>10.30</td>\n",
       "      <td>162.6</td>\n",
       "      <td>104</td>\n",
       "      <td>7.32</td>\n",
       "      <td>12.2</td>\n",
       "      <td>5</td>\n",
       "      <td>3.29</td>\n",
       "      <td>0</td>\n",
       "      <td>0</td>\n",
       "    </tr>\n",
       "    <tr>\n",
       "      <th>3</th>\n",
       "      <td>OH</td>\n",
       "      <td>84</td>\n",
       "      <td>408</td>\n",
       "      <td>Yes</td>\n",
       "      <td>No</td>\n",
       "      <td>0</td>\n",
       "      <td>299.4</td>\n",
       "      <td>71</td>\n",
       "      <td>50.90</td>\n",
       "      <td>61.9</td>\n",
       "      <td>88</td>\n",
       "      <td>5.26</td>\n",
       "      <td>196.9</td>\n",
       "      <td>89</td>\n",
       "      <td>8.86</td>\n",
       "      <td>6.6</td>\n",
       "      <td>7</td>\n",
       "      <td>1.78</td>\n",
       "      <td>2</td>\n",
       "      <td>0</td>\n",
       "    </tr>\n",
       "    <tr>\n",
       "      <th>4</th>\n",
       "      <td>OK</td>\n",
       "      <td>75</td>\n",
       "      <td>415</td>\n",
       "      <td>Yes</td>\n",
       "      <td>No</td>\n",
       "      <td>0</td>\n",
       "      <td>166.7</td>\n",
       "      <td>113</td>\n",
       "      <td>28.34</td>\n",
       "      <td>148.3</td>\n",
       "      <td>122</td>\n",
       "      <td>12.61</td>\n",
       "      <td>186.9</td>\n",
       "      <td>121</td>\n",
       "      <td>8.41</td>\n",
       "      <td>10.1</td>\n",
       "      <td>3</td>\n",
       "      <td>2.73</td>\n",
       "      <td>3</td>\n",
       "      <td>0</td>\n",
       "    </tr>\n",
       "    <tr>\n",
       "      <th>5</th>\n",
       "      <td>AL</td>\n",
       "      <td>118</td>\n",
       "      <td>510</td>\n",
       "      <td>Yes</td>\n",
       "      <td>No</td>\n",
       "      <td>0</td>\n",
       "      <td>223.4</td>\n",
       "      <td>98</td>\n",
       "      <td>37.98</td>\n",
       "      <td>220.6</td>\n",
       "      <td>101</td>\n",
       "      <td>18.75</td>\n",
       "      <td>203.9</td>\n",
       "      <td>118</td>\n",
       "      <td>9.18</td>\n",
       "      <td>6.3</td>\n",
       "      <td>6</td>\n",
       "      <td>1.70</td>\n",
       "      <td>0</td>\n",
       "      <td>0</td>\n",
       "    </tr>\n",
       "    <tr>\n",
       "      <th>6</th>\n",
       "      <td>MA</td>\n",
       "      <td>121</td>\n",
       "      <td>510</td>\n",
       "      <td>No</td>\n",
       "      <td>Yes</td>\n",
       "      <td>24</td>\n",
       "      <td>218.2</td>\n",
       "      <td>88</td>\n",
       "      <td>37.09</td>\n",
       "      <td>348.5</td>\n",
       "      <td>108</td>\n",
       "      <td>29.62</td>\n",
       "      <td>212.6</td>\n",
       "      <td>118</td>\n",
       "      <td>9.57</td>\n",
       "      <td>7.5</td>\n",
       "      <td>7</td>\n",
       "      <td>2.03</td>\n",
       "      <td>3</td>\n",
       "      <td>0</td>\n",
       "    </tr>\n",
       "    <tr>\n",
       "      <th>7</th>\n",
       "      <td>MO</td>\n",
       "      <td>147</td>\n",
       "      <td>415</td>\n",
       "      <td>Yes</td>\n",
       "      <td>No</td>\n",
       "      <td>0</td>\n",
       "      <td>157.0</td>\n",
       "      <td>79</td>\n",
       "      <td>26.69</td>\n",
       "      <td>103.1</td>\n",
       "      <td>94</td>\n",
       "      <td>8.76</td>\n",
       "      <td>211.8</td>\n",
       "      <td>96</td>\n",
       "      <td>9.53</td>\n",
       "      <td>7.1</td>\n",
       "      <td>6</td>\n",
       "      <td>1.92</td>\n",
       "      <td>0</td>\n",
       "      <td>0</td>\n",
       "    </tr>\n",
       "    <tr>\n",
       "      <th>8</th>\n",
       "      <td>LA</td>\n",
       "      <td>117</td>\n",
       "      <td>408</td>\n",
       "      <td>No</td>\n",
       "      <td>No</td>\n",
       "      <td>0</td>\n",
       "      <td>184.5</td>\n",
       "      <td>97</td>\n",
       "      <td>31.37</td>\n",
       "      <td>351.6</td>\n",
       "      <td>80</td>\n",
       "      <td>29.89</td>\n",
       "      <td>215.8</td>\n",
       "      <td>90</td>\n",
       "      <td>9.71</td>\n",
       "      <td>8.7</td>\n",
       "      <td>4</td>\n",
       "      <td>2.35</td>\n",
       "      <td>1</td>\n",
       "      <td>0</td>\n",
       "    </tr>\n",
       "    <tr>\n",
       "      <th>9</th>\n",
       "      <td>WV</td>\n",
       "      <td>141</td>\n",
       "      <td>415</td>\n",
       "      <td>Yes</td>\n",
       "      <td>Yes</td>\n",
       "      <td>37</td>\n",
       "      <td>258.6</td>\n",
       "      <td>84</td>\n",
       "      <td>43.96</td>\n",
       "      <td>222.0</td>\n",
       "      <td>111</td>\n",
       "      <td>18.87</td>\n",
       "      <td>326.4</td>\n",
       "      <td>97</td>\n",
       "      <td>14.69</td>\n",
       "      <td>11.2</td>\n",
       "      <td>5</td>\n",
       "      <td>3.02</td>\n",
       "      <td>0</td>\n",
       "      <td>0</td>\n",
       "    </tr>\n",
       "    <tr>\n",
       "      <th>10</th>\n",
       "      <td>IN</td>\n",
       "      <td>65</td>\n",
       "      <td>415</td>\n",
       "      <td>No</td>\n",
       "      <td>No</td>\n",
       "      <td>0</td>\n",
       "      <td>129.1</td>\n",
       "      <td>137</td>\n",
       "      <td>21.95</td>\n",
       "      <td>228.5</td>\n",
       "      <td>83</td>\n",
       "      <td>19.42</td>\n",
       "      <td>208.8</td>\n",
       "      <td>111</td>\n",
       "      <td>9.40</td>\n",
       "      <td>12.7</td>\n",
       "      <td>6</td>\n",
       "      <td>3.43</td>\n",
       "      <td>4</td>\n",
       "      <td>1</td>\n",
       "    </tr>\n",
       "    <tr>\n",
       "      <th>11</th>\n",
       "      <td>RI</td>\n",
       "      <td>74</td>\n",
       "      <td>415</td>\n",
       "      <td>No</td>\n",
       "      <td>No</td>\n",
       "      <td>0</td>\n",
       "      <td>187.7</td>\n",
       "      <td>127</td>\n",
       "      <td>31.91</td>\n",
       "      <td>163.4</td>\n",
       "      <td>148</td>\n",
       "      <td>13.89</td>\n",
       "      <td>196.0</td>\n",
       "      <td>94</td>\n",
       "      <td>8.82</td>\n",
       "      <td>9.1</td>\n",
       "      <td>5</td>\n",
       "      <td>2.46</td>\n",
       "      <td>0</td>\n",
       "      <td>0</td>\n",
       "    </tr>\n",
       "    <tr>\n",
       "      <th>12</th>\n",
       "      <td>IA</td>\n",
       "      <td>168</td>\n",
       "      <td>408</td>\n",
       "      <td>No</td>\n",
       "      <td>No</td>\n",
       "      <td>0</td>\n",
       "      <td>128.8</td>\n",
       "      <td>96</td>\n",
       "      <td>21.90</td>\n",
       "      <td>104.9</td>\n",
       "      <td>71</td>\n",
       "      <td>8.92</td>\n",
       "      <td>141.1</td>\n",
       "      <td>128</td>\n",
       "      <td>6.35</td>\n",
       "      <td>11.2</td>\n",
       "      <td>2</td>\n",
       "      <td>3.02</td>\n",
       "      <td>1</td>\n",
       "      <td>0</td>\n",
       "    </tr>\n",
       "    <tr>\n",
       "      <th>13</th>\n",
       "      <td>MT</td>\n",
       "      <td>95</td>\n",
       "      <td>510</td>\n",
       "      <td>No</td>\n",
       "      <td>No</td>\n",
       "      <td>0</td>\n",
       "      <td>156.6</td>\n",
       "      <td>88</td>\n",
       "      <td>26.62</td>\n",
       "      <td>247.6</td>\n",
       "      <td>75</td>\n",
       "      <td>21.05</td>\n",
       "      <td>192.3</td>\n",
       "      <td>115</td>\n",
       "      <td>8.65</td>\n",
       "      <td>12.3</td>\n",
       "      <td>5</td>\n",
       "      <td>3.32</td>\n",
       "      <td>3</td>\n",
       "      <td>0</td>\n",
       "    </tr>\n",
       "    <tr>\n",
       "      <th>14</th>\n",
       "      <td>IA</td>\n",
       "      <td>62</td>\n",
       "      <td>415</td>\n",
       "      <td>No</td>\n",
       "      <td>No</td>\n",
       "      <td>0</td>\n",
       "      <td>120.7</td>\n",
       "      <td>70</td>\n",
       "      <td>20.52</td>\n",
       "      <td>307.2</td>\n",
       "      <td>76</td>\n",
       "      <td>26.11</td>\n",
       "      <td>203.0</td>\n",
       "      <td>99</td>\n",
       "      <td>9.14</td>\n",
       "      <td>13.1</td>\n",
       "      <td>6</td>\n",
       "      <td>3.54</td>\n",
       "      <td>4</td>\n",
       "      <td>0</td>\n",
       "    </tr>\n",
       "  </tbody>\n",
       "</table>\n",
       "</div>"
      ],
      "text/plain": [
       "   State  Account length  Area code International plan Voice mail plan  \\\n",
       "0     KS             128        415                 No             Yes   \n",
       "1     OH             107        415                 No             Yes   \n",
       "2     NJ             137        415                 No              No   \n",
       "3     OH              84        408                Yes              No   \n",
       "4     OK              75        415                Yes              No   \n",
       "5     AL             118        510                Yes              No   \n",
       "6     MA             121        510                 No             Yes   \n",
       "7     MO             147        415                Yes              No   \n",
       "8     LA             117        408                 No              No   \n",
       "9     WV             141        415                Yes             Yes   \n",
       "10    IN              65        415                 No              No   \n",
       "11    RI              74        415                 No              No   \n",
       "12    IA             168        408                 No              No   \n",
       "13    MT              95        510                 No              No   \n",
       "14    IA              62        415                 No              No   \n",
       "\n",
       "    Number vmail messages  Total day minutes  Total day calls  \\\n",
       "0                      25              265.1              110   \n",
       "1                      26              161.6              123   \n",
       "2                       0              243.4              114   \n",
       "3                       0              299.4               71   \n",
       "4                       0              166.7              113   \n",
       "5                       0              223.4               98   \n",
       "6                      24              218.2               88   \n",
       "7                       0              157.0               79   \n",
       "8                       0              184.5               97   \n",
       "9                      37              258.6               84   \n",
       "10                      0              129.1              137   \n",
       "11                      0              187.7              127   \n",
       "12                      0              128.8               96   \n",
       "13                      0              156.6               88   \n",
       "14                      0              120.7               70   \n",
       "\n",
       "    Total day charge  Total eve minutes  Total eve calls  Total eve charge  \\\n",
       "0              45.07              197.4               99             16.78   \n",
       "1              27.47              195.5              103             16.62   \n",
       "2              41.38              121.2              110             10.30   \n",
       "3              50.90               61.9               88              5.26   \n",
       "4              28.34              148.3              122             12.61   \n",
       "5              37.98              220.6              101             18.75   \n",
       "6              37.09              348.5              108             29.62   \n",
       "7              26.69              103.1               94              8.76   \n",
       "8              31.37              351.6               80             29.89   \n",
       "9              43.96              222.0              111             18.87   \n",
       "10             21.95              228.5               83             19.42   \n",
       "11             31.91              163.4              148             13.89   \n",
       "12             21.90              104.9               71              8.92   \n",
       "13             26.62              247.6               75             21.05   \n",
       "14             20.52              307.2               76             26.11   \n",
       "\n",
       "    Total night minutes  Total night calls  Total night charge  \\\n",
       "0                 244.7                 91               11.01   \n",
       "1                 254.4                103               11.45   \n",
       "2                 162.6                104                7.32   \n",
       "3                 196.9                 89                8.86   \n",
       "4                 186.9                121                8.41   \n",
       "5                 203.9                118                9.18   \n",
       "6                 212.6                118                9.57   \n",
       "7                 211.8                 96                9.53   \n",
       "8                 215.8                 90                9.71   \n",
       "9                 326.4                 97               14.69   \n",
       "10                208.8                111                9.40   \n",
       "11                196.0                 94                8.82   \n",
       "12                141.1                128                6.35   \n",
       "13                192.3                115                8.65   \n",
       "14                203.0                 99                9.14   \n",
       "\n",
       "    Total intl minutes  Total intl calls  Total intl charge  \\\n",
       "0                 10.0                 3               2.70   \n",
       "1                 13.7                 3               3.70   \n",
       "2                 12.2                 5               3.29   \n",
       "3                  6.6                 7               1.78   \n",
       "4                 10.1                 3               2.73   \n",
       "5                  6.3                 6               1.70   \n",
       "6                  7.5                 7               2.03   \n",
       "7                  7.1                 6               1.92   \n",
       "8                  8.7                 4               2.35   \n",
       "9                 11.2                 5               3.02   \n",
       "10                12.7                 6               3.43   \n",
       "11                 9.1                 5               2.46   \n",
       "12                11.2                 2               3.02   \n",
       "13                12.3                 5               3.32   \n",
       "14                13.1                 6               3.54   \n",
       "\n",
       "    Customer service calls  Churn  \n",
       "0                        1      0  \n",
       "1                        1      0  \n",
       "2                        0      0  \n",
       "3                        2      0  \n",
       "4                        3      0  \n",
       "5                        0      0  \n",
       "6                        3      0  \n",
       "7                        0      0  \n",
       "8                        1      0  \n",
       "9                        0      0  \n",
       "10                       4      1  \n",
       "11                       0      0  \n",
       "12                       1      0  \n",
       "13                       3      0  \n",
       "14                       4      0  "
      ]
     },
     "execution_count": 46,
     "metadata": {},
     "output_type": "execute_result"
    }
   ],
   "source": [
    "df.replace({False: 0, True: 1})\n",
    "df.head(15)"
   ]
  },
  {
   "cell_type": "markdown",
   "metadata": {
    "id": "aA2q3Ssl9xkI"
   },
   "source": [
    "#### 3.2 what is the users \"churn rate\" in our dataframe? <span style= color:#0033cc>(5 points)</span>\n",
    "Hint: the churn rate formula can be calculated as the \"number of churned\" divided by the \"total number of customers\"."
   ]
  },
  {
   "cell_type": "code",
   "execution_count": 49,
   "metadata": {
    "id": "Jx3LRSAf9xkK"
   },
   "outputs": [
    {
     "ename": "SyntaxError",
     "evalue": "expression cannot contain assignment, perhaps you meant \"==\"? (1262292.py, line 1)",
     "output_type": "error",
     "traceback": [
      "\u001b[1;36m  Cell \u001b[1;32mIn[49], line 1\u001b[1;36m\u001b[0m\n\u001b[1;33m    churned=df.sum(df['churn']=true)\u001b[0m\n\u001b[1;37m                   ^\u001b[0m\n\u001b[1;31mSyntaxError\u001b[0m\u001b[1;31m:\u001b[0m expression cannot contain assignment, perhaps you meant \"==\"?\n"
     ]
    }
   ],
   "source": [
    "d=df['churn'].agg('sum')/df['Customer service calls'].agg"
   ]
  },
  {
   "cell_type": "markdown",
   "metadata": {
    "id": "qxNRGhAS9xkL"
   },
   "source": [
    "#### 3.3  How the charn rate can affect on the company? <span style= color:#0033cc>(3 points)</span>"
   ]
  },
  {
   "cell_type": "markdown",
   "metadata": {
    "id": "xVTyvAZW9xkM"
   },
   "source": []
  },
  {
   "cell_type": "markdown",
   "metadata": {
    "id": "riCjlVAy9xkN"
   },
   "source": [
    "#### 3.4 How much time (on average) do churned users spend on the phone during daytime? <span style= color:#0033cc>(5 points)</span>\n",
    "Hint: filter churn column when the value of churn equal to 1"
   ]
  },
  {
   "cell_type": "code",
   "execution_count": null,
   "metadata": {
    "id": "XRg3woMo9xkO"
   },
   "outputs": [],
   "source": []
  },
  {
   "cell_type": "markdown",
   "metadata": {
    "id": "AoIGk7d_9xkO"
   },
   "source": [
    "#### 3.5 What is the maximum length of international calls among loyal users who do not have an international plan? ('International plan' == 'No') <span style= color:#0033cc>(5 points)</span>\n",
    "Hint: 2 filters conditions,churn equal to 0 and international plan equal to no"
   ]
  },
  {
   "cell_type": "code",
   "execution_count": null,
   "metadata": {
    "id": "ezgNGAW99xkP"
   },
   "outputs": [],
   "source": []
  },
  {
   "cell_type": "markdown",
   "metadata": {
    "id": "mOUwkweH9xkQ"
   },
   "source": [
    "#### 4. Select top 3 international plan subscribers and non subscribers with the most intl calls"
   ]
  },
  {
   "cell_type": "markdown",
   "metadata": {
    "id": "3MH7u5NW9xkS"
   },
   "source": [
    "#### 4.1. Build a function top which attributes df, n (for the top n) and column. In this function use sort_values to sort the values in the column specified. <span style= color:#0033cc>(10 points)</span>\n",
    "Note: Do not apply the function on the whole data frame (e.i. top(df, n=3)) as the output will be the top 3 regardless of subscribers and non-subscribers."
   ]
  },
  {
   "cell_type": "code",
   "execution_count": null,
   "metadata": {
    "id": "BuqY5DHI9xkU"
   },
   "outputs": [],
   "source": []
  },
  {
   "cell_type": "markdown",
   "metadata": {
    "id": "gWbsNCnt9xkV"
   },
   "source": [
    "#### 4.2. Group the df dataframe by 'International plan' and use apply(top) to apply this function. <span style= color:#0033cc>(5 points)</span>"
   ]
  },
  {
   "cell_type": "code",
   "execution_count": null,
   "metadata": {
    "id": "iLj7of3s9xkV"
   },
   "outputs": [],
   "source": []
  },
  {
   "cell_type": "markdown",
   "metadata": {
    "id": "DaPf0inB9xkW"
   },
   "source": [
    "#### 5. pd.crosstab"
   ]
  },
  {
   "cell_type": "markdown",
   "metadata": {
    "id": "oGzK6u5G9xkX"
   },
   "source": [
    "#### 5.1 how the observations in our sample are normalized (divide each value by the sum of the values) in the context of two variables - Churn and Voice mail plan. To do so, build a contingency table using the crosstab method. <span style= color:#0033cc>(6 points)</span>\n",
    "Hint: To normalize using all values, simply set normalize=True"
   ]
  },
  {
   "cell_type": "code",
   "execution_count": null,
   "metadata": {
    "id": "Un8rI1Py9xkY"
   },
   "outputs": [],
   "source": []
  },
  {
   "cell_type": "markdown",
   "metadata": {
    "id": "g91pLbIg9xkZ"
   },
   "source": [
    "#### 5.2 What is the conclustion of most of users regarding voice mail usage? <span style= color:#0033cc>(4 points)</span>"
   ]
  },
  {
   "cell_type": "markdown",
   "metadata": {
    "id": "AbZ1hgAb9xka"
   },
   "source": []
  },
  {
   "cell_type": "markdown",
   "metadata": {
    "id": "dZNUPRdk9xkb"
   },
   "source": [
    "#### 6. Columns calculations"
   ]
  },
  {
   "cell_type": "markdown",
   "metadata": {
    "id": "q-s_pq8T9xkb"
   },
   "source": [
    "#### 6.1 Add a column name 'total_charge', and get the total charge by sum all the charge columns <span style= color:#0033cc>(7 points)</span>"
   ]
  },
  {
   "cell_type": "code",
   "execution_count": null,
   "metadata": {
    "id": "xTWElLXC9xkc"
   },
   "outputs": [],
   "source": []
  },
  {
   "cell_type": "markdown",
   "metadata": {
    "id": "dhI9MhJ-9xkd"
   },
   "source": [
    "####  6.2 Add a column name 'Day_charge_pct', and get day charge precentage of total charge by dividing the column 'Total day charge' by the column 'total_charge'. <span style= color:#0033cc>(7 points)</span>"
   ]
  },
  {
   "cell_type": "code",
   "execution_count": null,
   "metadata": {
    "id": "tOdt1BhW9xke"
   },
   "outputs": [],
   "source": []
  },
  {
   "cell_type": "markdown",
   "metadata": {
    "id": "uXK32Gb-9xke"
   },
   "source": [
    "#### 7. Day charge percentage and state visualization"
   ]
  },
  {
   "cell_type": "markdown",
   "metadata": {
    "id": "F9eE6N3q9xkf"
   },
   "source": [
    "#### 7.1 Import matplotlib.pyplot and referred the package as plt <span style= color:#0033cc>(2 points)</span>"
   ]
  },
  {
   "cell_type": "code",
   "execution_count": null,
   "metadata": {
    "id": "xjtstUin9xkg"
   },
   "outputs": [],
   "source": []
  },
  {
   "cell_type": "markdown",
   "metadata": {
    "id": "_JxacDnh9xkh"
   },
   "source": [
    "#### 7.2 create new string list with the name 'my_color' that contains the following colors names: red,green,orange,blue,yellow <span style= color:#0033cc>(4 points)</span>"
   ]
  },
  {
   "cell_type": "code",
   "execution_count": null,
   "metadata": {
    "id": "E7GJzmmS9xki"
   },
   "outputs": [],
   "source": []
  },
  {
   "cell_type": "markdown",
   "metadata": {
    "id": "vrPLcvrv9xkj"
   },
   "source": [
    "#### 7.3 Bar chart plot <span style= color:#0033cc>(10 points)</span>"
   ]
  },
  {
   "cell_type": "markdown",
   "metadata": {
    "id": "LQ_JHujM9xkl"
   },
   "source": [
    "1.Select first 5 rows of the dataframe (use df.iloc[]) "
   ]
  },
  {
   "cell_type": "markdown",
   "metadata": {
    "id": "406li2ru9xkm"
   },
   "source": [
    "2.Use <span style= color:blue>df.plot</span> function with kind='bar' and x='State' and y='Day_charge_pct' and color = my_colors to make a simple bar chart plot (of the day chart %)."
   ]
  },
  {
   "cell_type": "markdown",
   "metadata": {
    "id": "B2Jn0g049xkn"
   },
   "source": [
    "3.Use <span style= color:blue>plt.xlabel(\"State Code\")</span> and <span style= color:blue>plt.ylabel(\"Day Charge %\")</span> to label the corresponding axes"
   ]
  },
  {
   "cell_type": "code",
   "execution_count": null,
   "metadata": {
    "id": "4sWDGhMB9xkn"
   },
   "outputs": [],
   "source": []
  }
 ],
 "metadata": {
  "colab": {
   "name": "Telecom_Churn_Test.ipynb",
   "provenance": []
  },
  "kernelspec": {
   "display_name": "Python 3 (ipykernel)",
   "language": "python",
   "name": "python3"
  },
  "language_info": {
   "codemirror_mode": {
    "name": "ipython",
    "version": 3
   },
   "file_extension": ".py",
   "mimetype": "text/x-python",
   "name": "python",
   "nbconvert_exporter": "python",
   "pygments_lexer": "ipython3",
   "version": "3.10.8"
  }
 },
 "nbformat": 4,
 "nbformat_minor": 4
}
